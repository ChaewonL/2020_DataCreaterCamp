{
 "cells": [
  {
   "cell_type": "markdown",
   "metadata": {},
   "source": [
    "# Lecture_03 분류\n",
    "<font size=5><b>(Scikit-learn을 활용한 머신러닝)<b></font>\n",
    "<div align='right'>발표자: Hoe Sung Ryu ( 류 회 성 ) </div>\n",
    "\n",
    "   \n",
    "<table align=\"center\">\n",
    "<td>\n",
    "<a target=\"_blank\" href=\"https://colab.research.google.com/drive/1UHalL5YdENo7gvMiZvcpihS5GTfNlk8E?usp=sharing\"><img src=\"https://www.tensorflow.org/images/colab_logo_32px.png\" />구글 코랩에서 실행하기</a> \n",
    "</td>\n",
    "</table>\n",
    "\n",
    "    \n",
    "    \n",
    "![](https://img1.daumcdn.net/thumb/R800x0/?scode=mtistory2&fname=https%3A%2F%2Ft1.daumcdn.net%2Fcfile%2Ftistory%2F9938463359E015470C)\n",
    "\n",
    "    \n",
    "    \n",
    "---"
   ]
  },
  {
   "cell_type": "markdown",
   "metadata": {
    "toc": true
   },
   "source": [
    "<h1>Table of Contents<span class=\"tocSkip\"></span></h1>\n",
    "<div class=\"toc\"><ul class=\"toc-item\"><li><span><a href=\"#이진분류\" data-toc-modified-id=\"이진분류-1\"><span class=\"toc-item-num\">1&nbsp;&nbsp;</span>이진분류</a></span><ul class=\"toc-item\"><li><span><a href=\"#데이터셋:-MNIST\" data-toc-modified-id=\"데이터셋:-MNIST-1.1\"><span class=\"toc-item-num\">1.1&nbsp;&nbsp;</span>데이터셋: MNIST</a></span></li><li><span><a href=\"#훈련/평가-데이터셋-나누기\" data-toc-modified-id=\"훈련/평가-데이터셋-나누기-1.2\"><span class=\"toc-item-num\">1.2&nbsp;&nbsp;</span>훈련/평가 데이터셋 나누기</a></span></li><li><span><a href=\"#모델학습\" data-toc-modified-id=\"모델학습-1.3\"><span class=\"toc-item-num\">1.3&nbsp;&nbsp;</span>모델학습</a></span></li><li><span><a href=\"#모델평가\" data-toc-modified-id=\"모델평가-1.4\"><span class=\"toc-item-num\">1.4&nbsp;&nbsp;</span>모델평가</a></span></li><li><span><a href=\"#다른-평가지표-사용\" data-toc-modified-id=\"다른-평가지표-사용-1.5\"><span class=\"toc-item-num\">1.5&nbsp;&nbsp;</span>다른 평가지표 사용</a></span></li></ul></li><li><span><a href=\"#다중-분류\" data-toc-modified-id=\"다중-분류-2\"><span class=\"toc-item-num\">2&nbsp;&nbsp;</span>다중 분류</a></span><ul class=\"toc-item\"><li><span><a href=\"#다중-분류를-위한-학습/평가-데이터-나누기\" data-toc-modified-id=\"다중-분류를-위한-학습/평가-데이터-나누기-2.1\"><span class=\"toc-item-num\">2.1&nbsp;&nbsp;</span>다중 분류를 위한 학습/평가 데이터 나누기</a></span></li><li><span><a href=\"#KNN-을-이용한-분류\" data-toc-modified-id=\"KNN-을-이용한-분류-2.2\"><span class=\"toc-item-num\">2.2&nbsp;&nbsp;</span>KNN 을 이용한 분류</a></span></li><li><span><a href=\"#SVM-을-이용한-분류\" data-toc-modified-id=\"SVM-을-이용한-분류-2.3\"><span class=\"toc-item-num\">2.3&nbsp;&nbsp;</span>SVM 을 이용한 분류</a></span></li><li><span><a href=\"#Lightgbm을-이용한-분류\" data-toc-modified-id=\"Lightgbm을-이용한-분류-2.4\"><span class=\"toc-item-num\">2.4&nbsp;&nbsp;</span>Lightgbm을 이용한 분류</a></span></li><li><span><a href=\"#Decision_Tree를-이용한-분류\" data-toc-modified-id=\"Decision_Tree를-이용한-분류-2.5\"><span class=\"toc-item-num\">2.5&nbsp;&nbsp;</span>Decision_Tree를 이용한 분류</a></span></li></ul></li></ul></div>"
   ]
  },
  {
   "cell_type": "code",
   "execution_count": 3,
   "metadata": {
    "ExecuteTime": {
     "end_time": "2020-09-24T01:38:42.003602Z",
     "start_time": "2020-09-24T01:38:41.990140Z"
    }
   },
   "outputs": [],
   "source": [
    "# import \n",
    "\n",
    "import pandas as pd\n",
    "import numpy as np \n",
    "\n",
    "from sklearn import * \n",
    "from sklearn.datasets import load_iris\n",
    "from sklearn.tree import DecisionTreeClassifier\n",
    "from sklearn.model_selection import train_test_split\n",
    "from sklearn.metrics import accuracy_score\n",
    "\n",
    "%matplotlib inline\n",
    "import seaborn as sns\n",
    "import matplotlib as mpl\n",
    "import matplotlib.pyplot as plt"
   ]
  },
  {
   "cell_type": "markdown",
   "metadata": {},
   "source": [
    "## 이진분류 "
   ]
  },
  {
   "cell_type": "markdown",
   "metadata": {},
   "source": [
    "### 데이터셋: MNIST\n",
    "\n",
    "<img src=https://3qeqpr26caki16dnhd19sv6by6v-wpengine.netdna-ssl.com/wp-content/uploads/2019/02/Plot-of-a-Subset-of-Images-from-the-MNIST-Dataset.png width=50%>"
   ]
  },
  {
   "cell_type": "code",
   "execution_count": 2,
   "metadata": {
    "ExecuteTime": {
     "end_time": "2020-09-24T01:38:36.492804Z",
     "start_time": "2020-09-24T01:38:20.429429Z"
    }
   },
   "outputs": [
    {
     "name": "stdout",
     "output_type": "stream",
     "text": [
      "X의 shape(70000, 784)\n",
      "y의 shape(70000,)\n"
     ]
    }
   ],
   "source": [
    "# data load\n",
    "from sklearn.datasets import fetch_openml\n",
    "mnist = fetch_openml('mnist_784', version=1)\n",
    "\n",
    "X, y = mnist[\"data\"], mnist[\"target\"]\n",
    "y = y.astype(np.uint8)\n",
    "\n",
    "print(f'X의 shape{X.shape}')\n",
    "print(f'y의 shape{y.shape}')"
   ]
  },
  {
   "cell_type": "code",
   "execution_count": 4,
   "metadata": {
    "ExecuteTime": {
     "end_time": "2020-09-24T01:38:48.921898Z",
     "start_time": "2020-09-24T01:38:45.862178Z"
    }
   },
   "outputs": [
    {
     "name": "stdout",
     "output_type": "stream",
     "text": [
      "번호를 입력하세요3\n"
     ]
    }
   ],
   "source": [
    "num=int(input(\"번호를 입력하세요\"))"
   ]
  },
  {
   "cell_type": "code",
   "execution_count": 5,
   "metadata": {
    "ExecuteTime": {
     "end_time": "2020-09-24T01:38:51.875614Z",
     "start_time": "2020-09-24T01:38:51.799463Z"
    }
   },
   "outputs": [
    {
     "data": {
      "image/png": "[encoded data removed]",
      "text/plain": [
       "<Figure size 432x288 with 1 Axes>"
      ]
     },
     "metadata": {
      "needs_background": "light"
     },
     "output_type": "display_data"
    }
   ],
   "source": [
    "some_digit = X[num]\n",
    "some_digit_image = some_digit.reshape(28, 28)\n",
    "plt.title(f'Number_{y[num]}')\n",
    "plt.imshow(some_digit_image, cmap=mpl.cm.binary)\n",
    "plt.axis(\"off\")\n",
    "plt.show()"
   ]
  },
  {
   "cell_type": "markdown",
   "metadata": {},
   "source": [
    "### 훈련/평가 데이터셋 나누기"
   ]
  },
  {
   "cell_type": "code",
   "execution_count": 6,
   "metadata": {
    "ExecuteTime": {
     "end_time": "2020-09-24T01:39:37.701493Z",
     "start_time": "2020-09-24T01:39:37.698067Z"
    }
   },
   "outputs": [],
   "source": [
    "X_train, X_test, y_train, y_test = X[:60000], X[60000:], y[:60000], y[60000:]"
   ]
  },
  {
   "cell_type": "code",
   "execution_count": 7,
   "metadata": {
    "ExecuteTime": {
     "end_time": "2020-09-24T01:39:45.401597Z",
     "start_time": "2020-09-24T01:39:45.397738Z"
    }
   },
   "outputs": [],
   "source": [
    "# 이진 분류 \n",
    "# 5 또는 나머지 번호로 나누기 (5 VS rest number) \n",
    "y_train_5 = (y_train == 5)\n",
    "y_test_5 = (y_test == 5)"
   ]
  },
  {
   "cell_type": "markdown",
   "metadata": {},
   "source": [
    "### 모델학습"
   ]
  },
  {
   "cell_type": "code",
   "execution_count": 8,
   "metadata": {
    "ExecuteTime": {
     "end_time": "2020-09-24T01:40:16.042394Z",
     "start_time": "2020-09-24T01:39:58.672083Z"
    }
   },
   "outputs": [
    {
     "data": {
      "text/plain": [
       "SGDClassifier(random_state=42)"
      ]
     },
     "execution_count": 8,
     "metadata": {},
     "output_type": "execute_result"
    }
   ],
   "source": [
    "from sklearn.linear_model import SGDClassifier # 모델 설정\n",
    "sgd_clf = SGDClassifier(random_state=42) # 모델 불러오기 \n",
    "sgd_clf.fit(X_train, y_train_5)# 모델 학습 "
   ]
  },
  {
   "cell_type": "markdown",
   "metadata": {},
   "source": [
    "### 모델평가"
   ]
  },
  {
   "cell_type": "code",
   "execution_count": 9,
   "metadata": {
    "ExecuteTime": {
     "end_time": "2020-09-24T01:40:24.022157Z",
     "start_time": "2020-09-24T01:40:24.002564Z"
    },
    "scrolled": true
   },
   "outputs": [
    {
     "name": "stdout",
     "output_type": "stream",
     "text": [
      "정확도: 94.92 %\n"
     ]
    }
   ],
   "source": [
    "# 간편 평가 방법 == score \n",
    "print(f'정확도: {round(sgd_clf.score(X_test, y_test_5),4)*100} %')"
   ]
  },
  {
   "cell_type": "markdown",
   "metadata": {},
   "source": [
    "### 다른 평가지표 사용 \n",
    "\n",
    "<img src='../img/confusion.png'>"
   ]
  },
  {
   "cell_type": "markdown",
   "metadata": {},
   "source": [
    "---\n",
    "\n",
    "정확도(Accuracy):예측한 결과가 실제 결과와 얼마나 동일한 지를 나타내는 지표\n",
    "\n",
    "- 직접구현: $\\mbox{정확도(Accuracy)}=\\frac{TP + TN}{TP+FN+FP+TN}$\n",
    "\n",
    "- sklearn사용: \n",
    "    ```python \n",
    "    from sklearn.metrics import accuracy_score\n",
    "    accuracy_score(???, ???)\n",
    "    ```"
   ]
  },
  {
   "cell_type": "markdown",
   "metadata": {},
   "source": [
    "---\n",
    "\n",
    "정밀도 (Precision): `Positive`로 예측한 결과들 중 실제로 `Positive`인 결과들의 비율\n",
    "\n",
    "- 직접구현: $\\mbox{정밀도}=\\frac{\\mbox{TP}}{\\mbox{TP+FP}}$\n",
    "- sklearn사용:\n",
    "    ```python \n",
    "    from sklearn.metrics import precision_score\n",
    "    precision_score(???, ???)\n",
    "    ```"
   ]
  },
  {
   "cell_type": "markdown",
   "metadata": {
    "ExecuteTime": {
     "end_time": "2020-09-19T12:58:10.051451Z",
     "start_time": "2020-09-19T12:58:10.043843Z"
    }
   },
   "source": [
    "---\n",
    "\n",
    "재현율 (Recall) : 실제로 Positive인 결과들 중 Positive로 예측한 결과들의 비율\n",
    "\n",
    "- 직접구현: $\\mbox{재현율}=\\frac{\\mbox{TP}}{\\mbox{TP+FN}}$\n",
    "- sklearn사용\n",
    "    ```python \n",
    "    from sklearn.metrics import precision_score\n",
    "    recall_score(???, ???)\n",
    "    ```"
   ]
  },
  {
   "cell_type": "markdown",
   "metadata": {},
   "source": [
    "---\n",
    "\n",
    "F1 score : 정밀도와 재현율의 조화평균\n",
    "\n",
    "- 직접구현: $\\mbox{F}1=\\frac{2}{\\frac{1}{\\mbox{정밀도}} + \\frac{1}{\\mbox{재현율}}}$\n",
    "- sklearn: \n",
    "    ```python \n",
    "    from sklearn.metrics import f1_score\n",
    "    f1_score(???, ???)\n",
    "    ```"
   ]
  },
  {
   "cell_type": "code",
   "execution_count": 10,
   "metadata": {
    "ExecuteTime": {
     "end_time": "2020-09-24T01:43:07.962269Z",
     "start_time": "2020-09-24T01:43:07.948056Z"
    }
   },
   "outputs": [],
   "source": [
    "# 예측값 저장 \n",
    "# y_pred: 예측값 // y_test: 실제값 \n",
    "y_pred = sgd_clf.predict(X_test)"
   ]
  },
  {
   "cell_type": "code",
   "execution_count": 11,
   "metadata": {
    "ExecuteTime": {
     "end_time": "2020-09-24T01:45:47.409119Z",
     "start_time": "2020-09-24T01:45:47.396867Z"
    }
   },
   "outputs": [],
   "source": [
    "# 혼돈 행렬 설정 \n",
    "from sklearn.metrics import confusion_matrix \n",
    "TN, FP, FN, TP  = confusion_matrix(y_test_5, y_pred).ravel()"
   ]
  },
  {
   "cell_type": "code",
   "execution_count": 12,
   "metadata": {
    "ExecuteTime": {
     "end_time": "2020-09-24T01:46:59.050248Z",
     "start_time": "2020-09-24T01:46:59.041965Z"
    }
   },
   "outputs": [
    {
     "name": "stdout",
     "output_type": "stream",
     "text": [
      "sklearn 사용한 정확도: 0.9492\n",
      "직접 구한 정확도: 0.9492\n"
     ]
    }
   ],
   "source": [
    "# 정확도 구하기 \n",
    "# 1. sklearn 사용 \n",
    "from sklearn.metrics import accuracy_score\n",
    "print(\"sklearn 사용한 정확도:\",accuracy_score(y_test_5, y_pred))# accuracy_score(실제값, 예측값)\n",
    "# 2.  직접구하기\n",
    "print(\"직접 구한 정확도:\",(TP + TN )/ (TP + FN + FP +  TN ))"
   ]
  },
  {
   "cell_type": "code",
   "execution_count": 13,
   "metadata": {
    "ExecuteTime": {
     "end_time": "2020-09-24T01:47:59.349481Z",
     "start_time": "2020-09-24T01:47:59.339999Z"
    }
   },
   "outputs": [
    {
     "name": "stdout",
     "output_type": "stream",
     "text": [
      "sklearn 사용한 정밀도: 0.6618887015177066\n",
      "직접 구한 정밀도: 0.6618887015177066\n"
     ]
    }
   ],
   "source": [
    "# 정밀도 구하기 \n",
    "# 1. sklearn 사용 \n",
    "from sklearn.metrics import precision_score\n",
    "print(\"sklearn 사용한 정밀도:\",precision_score(y_test_5, y_pred))\n",
    "# 2.  직접구하기\n",
    "print(\"직접 구한 정밀도:\",((TP) / (TP+FP) ))"
   ]
  },
  {
   "cell_type": "code",
   "execution_count": 50,
   "metadata": {
    "ExecuteTime": {
     "end_time": "2020-09-19T12:56:30.859163Z",
     "start_time": "2020-09-19T12:56:30.848140Z"
    }
   },
   "outputs": [
    {
     "data": {
      "text/plain": [
       "0.8800448430493274"
      ]
     },
     "execution_count": 50,
     "metadata": {},
     "output_type": "execute_result"
    }
   ],
   "source": [
    "# recall 구하기 \n",
    "# 1. sklearn 사용 \n",
    "from sklearn.metrics import recall_score\n",
    "print(\"sklearn 사용한 recall:\",recall_score(y_test_5, y_pred))\n",
    "# 2.  직접구하기\n",
    "print(\"직접 구한 recall:\", TP / (TP+FN))"
   ]
  },
  {
   "cell_type": "code",
   "execution_count": 14,
   "metadata": {
    "ExecuteTime": {
     "end_time": "2020-09-24T01:49:22.200319Z",
     "start_time": "2020-09-24T01:49:22.189424Z"
    }
   },
   "outputs": [
    {
     "name": "stdout",
     "output_type": "stream",
     "text": [
      "sklearn 사용한 f1: 0.75553416746872\n",
      "직접 구한 f1: 0.7555341674687199\n"
     ]
    }
   ],
   "source": [
    "# f1 구하기 \n",
    "# 1. sklearn 사용  \n",
    "from sklearn.metrics import f1_score\n",
    "print(\"sklearn 사용한 f1:\",f1_score(y_test_5, y_pred))\n",
    "# 2.  직접구하기\n",
    "재현율 = TP / (TP+FN)\n",
    "정밀도 = ((TP) / (TP+FP) )\n",
    "print(\"직접 구한 f1:\",2/((1/정밀도) + (1/재현율))) "
   ]
  },
  {
   "cell_type": "code",
   "execution_count": 15,
   "metadata": {
    "ExecuteTime": {
     "end_time": "2020-09-24T01:49:27.031546Z",
     "start_time": "2020-09-24T01:49:27.005419Z"
    }
   },
   "outputs": [
    {
     "name": "stdout",
     "output_type": "stream",
     "text": [
      "              precision    recall  f1-score   support\n",
      "\n",
      "       False       0.99      0.96      0.97      9108\n",
      "        True       0.66      0.88      0.76       892\n",
      "\n",
      "    accuracy                           0.95     10000\n",
      "   macro avg       0.82      0.92      0.86     10000\n",
      "weighted avg       0.96      0.95      0.95     10000\n",
      "\n"
     ]
    }
   ],
   "source": [
    "# 한번에 살펴보기 \n",
    "from sklearn.metrics import classification_report\n",
    "scores = classification_report(y_test_5, y_pred)\n",
    "print(scores)"
   ]
  },
  {
   "cell_type": "markdown",
   "metadata": {},
   "source": [
    "## 다중 분류 \n",
    "\n",
    "### 다중 분류를 위한 학습/평가 데이터 나누기"
   ]
  },
  {
   "cell_type": "code",
   "execution_count": null,
   "metadata": {},
   "outputs": [],
   "source": [
    "print(\"MNIST 데이터 X 형태\",X.shape)\n",
    "print(\"MNIST 데이터 X 형태\", y.shape)"
   ]
  },
  {
   "cell_type": "code",
   "execution_count": null,
   "metadata": {},
   "outputs": [],
   "source": [
    "from sklearn.model_selection import train_test_split\n",
    "X_train,X_test, y_train, y_test = train_test_split(X,y,test_size=0.3, radom_state=42)"
   ]
  },
  {
   "cell_type": "code",
   "execution_count": 18,
   "metadata": {
    "ExecuteTime": {
     "end_time": "2020-09-24T01:55:46.162488Z",
     "start_time": "2020-09-24T01:55:46.158007Z"
    }
   },
   "outputs": [
    {
     "name": "stdout",
     "output_type": "stream",
     "text": [
      "MNIST 데이터 X_train 형태 (60000, 784)\n",
      "MNIST 데이터 y_train 형태 (60000,)\n",
      "MNIST 데이터 X_test 형태 (10000, 784)\n",
      "MNIST 데이터 y_test 형태 (10000,)\n"
     ]
    }
   ],
   "source": [
    "print(\"MNIST 데이터 X_train 형태\",X_train.shape)\n",
    "print(\"MNIST 데이터 y_train 형태\", y_train.shape)\n",
    "print(\"MNIST 데이터 X_test 형태\",X_test.shape)\n",
    "print(\"MNIST 데이터 y_test 형태\", y_test.shape)"
   ]
  },
  {
   "cell_type": "markdown",
   "metadata": {},
   "source": [
    "### KNN 을 이용한 분류 "
   ]
  },
  {
   "cell_type": "code",
   "execution_count": 19,
   "metadata": {
    "ExecuteTime": {
     "end_time": "2020-09-24T02:07:27.431608Z",
     "start_time": "2020-09-24T01:56:14.449512Z"
    }
   },
   "outputs": [],
   "source": [
    "from sklearn.neighbors import KNeighborsClassifier\n",
    "model_knn = KNeighborsClassifier(n_neighbors = 4)\n",
    "model_knn.fit(X_train, y_train)\n",
    "y_pred = model_knn.predict(X_test)"
   ]
  },
  {
   "cell_type": "code",
   "execution_count": 21,
   "metadata": {
    "ExecuteTime": {
     "end_time": "2020-09-24T02:10:09.432385Z",
     "start_time": "2020-09-24T02:10:09.426526Z"
    }
   },
   "outputs": [
    {
     "name": "stdout",
     "output_type": "stream",
     "text": [
      "KNN Accuracy: 0.9627\n"
     ]
    }
   ],
   "source": [
    "print(\"KNN Accuracy:\",accuracy_score(y_test,y_pred))"
   ]
  },
  {
   "cell_type": "markdown",
   "metadata": {},
   "source": [
    "### SVM 을 이용한 분류 "
   ]
  },
  {
   "cell_type": "code",
   "execution_count": 22,
   "metadata": {
    "ExecuteTime": {
     "end_time": "2020-09-24T02:19:34.919047Z",
     "start_time": "2020-09-24T02:10:35.709232Z"
    }
   },
   "outputs": [
    {
     "name": "stdout",
     "output_type": "stream",
     "text": [
      "Decision_Tree Accuracy 0.9792\n"
     ]
    }
   ],
   "source": [
    "from sklearn.svm import SVC\n",
    "svc = SVC().fit(X_train, y_train)\n",
    "print(\"SVC Accuracy\",svc.score(X_test,y_test))"
   ]
  },
  {
   "cell_type": "markdown",
   "metadata": {},
   "source": [
    "### Lightgbm을 이용한 분류 "
   ]
  },
  {
   "cell_type": "code",
   "execution_count": null,
   "metadata": {},
   "outputs": [],
   "source": [
    "# !pip install lightgbm"
   ]
  },
  {
   "cell_type": "code",
   "execution_count": 23,
   "metadata": {
    "ExecuteTime": {
     "end_time": "2020-09-24T02:25:28.260842Z",
     "start_time": "2020-09-24T02:24:40.231490Z"
    }
   },
   "outputs": [
    {
     "name": "stdout",
     "output_type": "stream",
     "text": [
      "Lightgbm Accuracy 0.9727\n"
     ]
    }
   ],
   "source": [
    "from lightgbm import LGBMClassifier\n",
    "lgbm = LGBMClassifier().fit(X_train, y_train)\n",
    "print(\"Lightgbm Accuracy\",lgbm.score(X_test,y_test))"
   ]
  },
  {
   "cell_type": "markdown",
   "metadata": {},
   "source": [
    "### Decision_Tree를 이용한 분류"
   ]
  },
  {
   "cell_type": "code",
   "execution_count": 24,
   "metadata": {
    "ExecuteTime": {
     "end_time": "2020-09-24T02:25:52.087824Z",
     "start_time": "2020-09-24T02:25:36.746077Z"
    }
   },
   "outputs": [
    {
     "name": "stdout",
     "output_type": "stream",
     "text": [
      "Decision_Tree Accuracy 0.8774\n"
     ]
    }
   ],
   "source": [
    "from sklearn.tree import DecisionTreeClassifier, plot_tree\n",
    "clf = DecisionTreeClassifier().fit(X_train, y_train)\n",
    "print(\"Decision_Tree Accuracy\",clf.score(X_test,y_test))"
   ]
  },
  {
   "cell_type": "code",
   "execution_count": 40,
   "metadata": {
    "ExecuteTime": {
     "end_time": "2020-09-24T02:32:54.876387Z",
     "start_time": "2020-09-24T02:32:54.584424Z"
    },
    "scrolled": false
   },
   "outputs": [
    {
     "data": {
      "image/png": "[encoded data removed]",
      "text/plain": [
       "<Figure size 720x576 with 1 Axes>"
      ]
     },
     "metadata": {
      "needs_background": "light"
     },
     "output_type": "display_data"
    }
   ],
   "source": [
    "## 해석가능\n",
    "plt.figure(figsize=(10, 8))\n",
    "plot_tree(clf, max_depth=2, filled=True,fontsize=5)\n",
    "plt.show()"
   ]
  }
 ],
 "metadata": {
  "kernelspec": {
   "display_name": "Python 3",
   "language": "python",
   "name": "python3"
  },
  "language_info": {
   "codemirror_mode": {
    "name": "ipython",
    "version": 3
   },
   "file_extension": ".py",
   "mimetype": "text/x-python",
   "name": "python",
   "nbconvert_exporter": "python",
   "pygments_lexer": "ipython3",
   "version": "3.7.0"
  },
  "toc": {
   "base_numbering": 1,
   "nav_menu": {},
   "number_sections": true,
   "sideBar": true,
   "skip_h1_title": true,
   "title_cell": "Table of Contents",
   "title_sidebar": "Contents",
   "toc_cell": true,
   "toc_position": {
    "height": "calc(100% - 180px)",
    "left": "10px",
    "top": "150px",
    "width": "256px"
   },
   "toc_section_display": true,
   "toc_window_display": false
  },
  "varInspector": {
   "cols": {
    "lenName": 16,
    "lenType": 16,
    "lenVar": 40
   },
   "kernels_config": {
    "python": {
     "delete_cmd_postfix": "",
     "delete_cmd_prefix": "del ",
     "library": "var_list.py",
     "varRefreshCmd": "print(var_dic_list())"
    },
    "r": {
     "delete_cmd_postfix": ") ",
     "delete_cmd_prefix": "rm(",
     "library": "var_list.r",
     "varRefreshCmd": "cat(var_dic_list()) "
    }
   },
   "types_to_exclude": [
    "module",
    "function",
    "builtin_function_or_method",
    "instance",
    "_Feature"
   ],
   "window_display": false
  }
 },
 "nbformat": 4,
 "nbformat_minor": 4
}
